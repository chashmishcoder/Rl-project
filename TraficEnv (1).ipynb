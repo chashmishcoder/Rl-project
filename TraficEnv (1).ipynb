{
  "nbformat": 4,
  "nbformat_minor": 0,
  "metadata": {
    "colab": {
      "provenance": [],
      "gpuType": "V28"
    },
    "kernelspec": {
      "name": "python3",
      "display_name": "Python 3"
    },
    "language_info": {
      "name": "python"
    },
    "accelerator": "TPU"
  },
  "cells": [
    {
      "cell_type": "code",
      "source": [
        "!pip install highway-env  # Install the highway-env package which contains the intersection environment"
      ],
      "metadata": {
        "colab": {
          "base_uri": "https://localhost:8080/"
        },
        "id": "w8kJa7FX6X2U",
        "outputId": "4e78812b-18d2-4590-fe87-8ea4046a711c"
      },
      "execution_count": null,
      "outputs": [
        {
          "output_type": "stream",
          "name": "stdout",
          "text": [
            "Requirement already satisfied: highway-env in /usr/local/lib/python3.10/dist-packages (1.10.1)\n",
            "Requirement already satisfied: gymnasium>=1.0.0a2 in /usr/local/lib/python3.10/dist-packages (from highway-env) (1.0.0a2)\n",
            "Requirement already satisfied: farama-notifications>=0.0.1 in /usr/local/lib/python3.10/dist-packages (from highway-env) (0.0.4)\n",
            "Requirement already satisfied: numpy>=1.21.0 in /usr/local/lib/python3.10/dist-packages (from highway-env) (1.26.4)\n",
            "Requirement already satisfied: pygame>=2.0.2 in /usr/local/lib/python3.10/dist-packages (from highway-env) (2.6.0)\n",
            "Requirement already satisfied: matplotlib in /usr/local/lib/python3.10/dist-packages (from highway-env) (3.7.1)\n",
            "Requirement already satisfied: pandas in /usr/local/lib/python3.10/dist-packages (from highway-env) (2.1.4)\n",
            "Requirement already satisfied: scipy in /usr/local/lib/python3.10/dist-packages (from highway-env) (1.13.1)\n",
            "Requirement already satisfied: cloudpickle>=1.2.0 in /usr/local/lib/python3.10/dist-packages (from gymnasium>=1.0.0a2->highway-env) (3.0.0)\n",
            "Requirement already satisfied: typing-extensions>=4.3.0 in /usr/local/lib/python3.10/dist-packages (from gymnasium>=1.0.0a2->highway-env) (4.12.2)\n",
            "Requirement already satisfied: contourpy>=1.0.1 in /usr/local/lib/python3.10/dist-packages (from matplotlib->highway-env) (1.3.0)\n",
            "Requirement already satisfied: cycler>=0.10 in /usr/local/lib/python3.10/dist-packages (from matplotlib->highway-env) (0.12.1)\n",
            "Requirement already satisfied: fonttools>=4.22.0 in /usr/local/lib/python3.10/dist-packages (from matplotlib->highway-env) (4.53.1)\n",
            "Requirement already satisfied: kiwisolver>=1.0.1 in /usr/local/lib/python3.10/dist-packages (from matplotlib->highway-env) (1.4.5)\n",
            "Requirement already satisfied: packaging>=20.0 in /usr/local/lib/python3.10/dist-packages (from matplotlib->highway-env) (24.1)\n",
            "Requirement already satisfied: pillow>=6.2.0 in /usr/local/lib/python3.10/dist-packages (from matplotlib->highway-env) (10.4.0)\n",
            "Requirement already satisfied: pyparsing>=2.3.1 in /usr/local/lib/python3.10/dist-packages (from matplotlib->highway-env) (3.1.4)\n",
            "Requirement already satisfied: python-dateutil>=2.7 in /usr/local/lib/python3.10/dist-packages (from matplotlib->highway-env) (2.9.0.post0)\n",
            "Requirement already satisfied: pytz>=2020.1 in /usr/local/lib/python3.10/dist-packages (from pandas->highway-env) (2024.1)\n",
            "Requirement already satisfied: tzdata>=2022.1 in /usr/local/lib/python3.10/dist-packages (from pandas->highway-env) (2024.1)\n",
            "Requirement already satisfied: six>=1.5 in /usr/local/lib/python3.10/dist-packages (from python-dateutil>=2.7->matplotlib->highway-env) (1.16.0)\n"
          ]
        }
      ]
    },
    {
      "cell_type": "code",
      "source": [
        "import gymnasium\n",
        "import highway_env\n",
        "from matplotlib import pyplot as plt\n",
        "import time\n",
        "\n",
        "env = gymnasium.make('intersection-v0', render_mode='rgb_array')\n",
        "env.unwrapped.configure({\n",
        "  \"controlled_vehicles\": 1,\n",
        "  \"initial_vehicle_count\": 30,  # Increased vehicle count for dense traffic\n",
        "  \"spawn_probability\": 0.8,  # Increased spawn probability for dense traffic\n",
        "  \"duration\": 200,\n",
        "  \"observation\": {\n",
        "    \"type\": \"Kinematics\",\n",
        "    \"vehicles_count\": 25,\n",
        "    \"features\": [\"presence\", \"x\", \"y\", \"vx\", \"vy\", \"heading\"],\n",
        "    \"features_range\": {\n",
        "      \"x\": [-100, 100],\n",
        "      \"y\": [-100, 100],\n",
        "      \"vx\": [-20, 20],\n",
        "      \"vy\": [-20, 20]\n",
        "    },\n",
        "    \"absolute\": True,\n",
        "    \"order\": \"sorted\"\n",
        "  }\n",
        "})\n",
        "obs, info = env.reset()\n",
        "\n",
        "\n",
        "\n"
      ],
      "metadata": {
        "colab": {
          "base_uri": "https://localhost:8080/"
        },
        "id": "I1Q4UEMqw3pj",
        "outputId": "d29667bc-52a3-45a4-945b-4a8b6c1a6794"
      },
      "execution_count": null,
      "outputs": [
        {
          "output_type": "stream",
          "name": "stderr",
          "text": [
            "/usr/local/lib/python3.10/dist-packages/gymnasium/envs/registration.py:518: DeprecationWarning: \u001b[33mWARN: The environment intersection-v0 is out of date. You should consider upgrading to version `v1`.\u001b[0m\n",
            "  logger.deprecation(\n"
          ]
        }
      ]
    },
    {
      "cell_type": "code",
      "source": [
        "# Create a list to store unique identifiers for images (replace with your actual identifiers)\n",
        "unique_arr = [f\"image_{i}\" for i in range(env.unwrapped.config[\"duration\"])]"
      ],
      "metadata": {
        "id": "_0mUicqIlH-4"
      },
      "execution_count": null,
      "outputs": []
    },
    {
      "cell_type": "code",
      "source": [
        "# Simulation loop\n",
        "from PIL import Image\n",
        "for i in range(env.unwrapped.config[\"duration\"]):\n",
        "  action = env.action_space.sample()\n",
        "  obs, reward, done, truncated, info = env.step(action)\n",
        "  print(f\"Step: {i}, Reward: {reward}\")\n",
        "\n",
        "  # Render the environment\n",
        "  img = env.render()\n",
        "  im = Image.fromarray(img)\n",
        "  plt.imshow(img)\n",
        "  plt.show()\n",
        "  images_dir = '/content/sample_data/img'\n",
        "  im.save(f\"{images_dir}/{unique_arr[i]}.png\")\n",
        "\n",
        "  time.sleep(0.01)\n",
        "\n",
        "  # Traffic signal monitoring (example)\n",
        "  # Check if the road has a 'controlled_vehicles' attribute\n",
        "  if hasattr(env.unwrapped.road, 'controlled_vehicles'):\n",
        "    # Assuming the first controlled vehicle is at the intersection\n",
        "    traffic_signal = env.unwrapped.road.controlled_vehicles[0].lane.traffic_lights[0]\n",
        "    print(\"Traffic signal state:\", traffic_signal.state)\n",
        "  else:\n",
        "    print(\"No controlled vehicles found on the road.\")\n",
        "\n",
        "  if done or truncated:\n",
        "    break\n",
        "\n",
        "env.close()\n"
      ],
      "metadata": {
        "colab": {
          "base_uri": "https://localhost:8080/",
          "height": 471
        },
        "collapsed": true,
        "id": "9VMfySt2mUd4",
        "outputId": "ebf7c070-41a6-4692-e8cf-8ff2c298d885"
      },
      "execution_count": null,
      "outputs": [
        {
          "output_type": "stream",
          "name": "stdout",
          "text": [
            "Step: 0, Reward: -5.0\n"
          ]
        },
        {
          "output_type": "display_data",
          "data": {
            "text/plain": [
              "<Figure size 640x480 with 1 Axes>"
            ],
            "image/png": "[encoded data removed]"
          },
          "metadata": {}
        },
        {
          "output_type": "stream",
          "name": "stdout",
          "text": [
            "No controlled vehicles found on the road.\n"
          ]
        }
      ]
    },
    {
      "cell_type": "code",
      "source": [
        "import cv2\n",
        "import os\n",
        "\n",
        "\n",
        "# Get the image files from the directory\n",
        "image_folder = '/content/sample_data/img'\n",
        "video_dir = '/content/sample_data/img'\n",
        "video_name = os.path.join(video_dir, 'simulation_video.avi')\n",
        "\n",
        "\n",
        "images = [img for img in os.listdir(image_folder) if img.endswith(\".png\")]\n",
        "frame = cv2.imread(os.path.join(image_folder, images[0]))\n",
        "height, width, layers = frame.shape\n",
        "\n",
        "video = cv2.VideoWriter(video_name, 0, 1, (width,height))\n",
        "\n",
        "for image in images:\n",
        "    video.write(cv2.imread(os.path.join(image_folder, image)))\n",
        "\n",
        "cv2.destroyAllWindows()\n",
        "video.release()\n",
        "\n",
        "print(\"Video has been saved as /content/sample_data/simulation_video.avi\")\n"
      ],
      "metadata": {
        "colab": {
          "base_uri": "https://localhost:8080/"
        },
        "id": "wvDDpeJ3a_W0",
        "outputId": "946ab6f7-ee33-4273-f248-73b53ef17571"
      },
      "execution_count": null,
      "outputs": [
        {
          "output_type": "stream",
          "name": "stdout",
          "text": [
            "Video has been saved as /content/sample_data/simulation_video.avi\n"
          ]
        }
      ]
    }
  ]
}